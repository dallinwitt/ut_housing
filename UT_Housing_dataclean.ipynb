{
 "cells": [
  {
   "cell_type": "markdown",
   "metadata": {},
   "source": [
    "# Introduction\n",
    "As someone looking to buy a home in Utah right now, the relative affordability of Utah's largest counties is of direct concern to me, as is the general economic wellbeing of my home state. In order to get a perception of trends in housing affordability, I used county-level economic data from the Federal Reserve Bank of St. Louis, and county-level housing price data from the Utah open data catalog.\n",
    "\n",
    "While the visualization will be done in R, I chose to do the large amount of data tidying in Python, simply because it is the environment with which I am more comfortable.\n",
    "\n",
    "# 1 Load Data\n",
    "## 1.1 Package Importing\n",
    "For todying this dataset, I will need pandas, numpy, and glob."
   ]
  },
  {
   "cell_type": "code",
   "execution_count": 1,
   "metadata": {},
   "outputs": [],
   "source": [
    "#data comes from the Federal Reserve Bank of St. Louis (https://fred.stlouisfed.org/categories/30154) \n",
    "#and the Utah Open Data Catalog (https://opendata.utah.gov/Social-Services/Average-Price-3-Bedroom-Homes-By-County-In-Utah-19/5icz-nmjb)\n",
    "\n",
    "#import necessary packages\n",
    "import pandas as pd\n",
    "import numpy as np\n",
    "import glob"
   ]
  },
  {
   "cell_type": "markdown",
   "metadata": {},
   "source": [
    "## 1.2 Data Importing\n",
    "The first dataset we will require is the 10-year change in housing price dataset from the Utah Open Data Catalog. The dataset is complete, but very poorly organized, so it will require quite a bit of work to get it into a usable state. The first step in that process will be to transpose it, so the the columns are counties, and the rows are dates."
   ]
  },
  {
   "cell_type": "code",
   "execution_count": 2,
   "metadata": {},
   "outputs": [],
   "source": [
    "#read in housing data\n",
    "housing = pd.read_csv(\"10-year_Change_in_Average_3_Bedroom_Home_Prices_in_Utah_Counties.csv\")\n",
    "\n",
    "#transpose house cost table (counties as columns)\n",
    "housing = housing.transpose()"
   ]
  },
  {
   "cell_type": "markdown",
   "metadata": {},
   "source": [
    "Next, we will reset the index, and identify the row to use as the columm labels, dopping that row from the dataset. "
   ]
  },
  {
   "cell_type": "code",
   "execution_count": 3,
   "metadata": {},
   "outputs": [],
   "source": [
    "#reset the index, name the columns based on the cities, drop irrelevant info\n",
    "housing = housing.reset_index()\n",
    "housing.columns = housing.iloc[0]\n",
    "housing = housing.drop([0, 230])"
   ]
  },
  {
   "cell_type": "markdown",
   "metadata": {},
   "source": [
    "In order for the data to be usable, we will need the dates to be read as datetime objects, so that we can later merge it with the other dataframes. We will also fix the column names, so that we are beginning with some apropriate consistency in nomenclature."
   ]
  },
  {
   "cell_type": "code",
   "execution_count": 4,
   "metadata": {},
   "outputs": [],
   "source": [
    "#convert Month column to datetime\n",
    "housing[\"Month\"] = pd.to_datetime(housing[\"Month\"], format = \"%Y-%m\")"
   ]
  },
  {
   "cell_type": "code",
   "execution_count": 5,
   "metadata": {},
   "outputs": [],
   "source": [
    "#append \"_houseprice\" to each column name\n",
    "housing.columns = [str(col) + '_houseprice' for col in housing.columns]\n",
    "housing.rename(columns={'Month_houseprice':'Month', \"Salt Lake_houseprice\":\"SaltLake_houseprice\"}, inplace=True)"
   ]
  },
  {
   "cell_type": "code",
   "execution_count": 6,
   "metadata": {},
   "outputs": [],
   "source": [
    "#set the \"Month\" column as the index of the housing df\n",
    "housing.set_index(\"Month\", inplace = True)"
   ]
  },
  {
   "cell_type": "markdown",
   "metadata": {},
   "source": [
    "We will next separate all of the data out into separate dataframes, to be individually merged with its respective income dataframe. They will later be concatenated vertically. "
   ]
  },
  {
   "cell_type": "code",
   "execution_count": 7,
   "metadata": {},
   "outputs": [],
   "source": [
    "#create separate dfs for each county\n",
    "Davis_housing = pd.DataFrame(housing[\"Davis_houseprice\"]).rename({\"Davis_houseprice\":\"houseprice\"}, axis = 1)\n",
    "SaltLake_housing = pd.DataFrame(housing[\"SaltLake_houseprice\"]).rename({\"SaltLake_houseprice\":\"houseprice\"}, axis = 1)\n",
    "Tooele_housing = pd.DataFrame(housing[\"Tooele_houseprice\"]).rename({\"Tooele_houseprice\":\"houseprice\"}, axis = 1)\n",
    "Utah_housing = pd.DataFrame(housing[\"Utah_houseprice\"]).rename({\"Utah_houseprice\":\"houseprice\"}, axis = 1)\n",
    "Wasatch_housing = pd.DataFrame(housing[\"Wasatch_houseprice\"]).rename({\"Wasatch_houseprice\":\"houseprice\"}, axis = 1)\n",
    "Washington_housing = pd.DataFrame(housing[\"Washington_houseprice\"]).rename({\"Washington_houseprice\":\"houseprice\"}, axis = 1)\n",
    "Weber_housing = pd.DataFrame(housing[\"Weber_houseprice\"]).rename({\"Weber_houseprice\":\"houseprice\"}, axis = 1)"
   ]
  },
  {
   "cell_type": "markdown",
   "metadata": {},
   "source": [
    "We will use glob to create a list of all of the CSV files containing household income data, which we will read in, and assign to individual dataframes. "
   ]
  },
  {
   "cell_type": "code",
   "execution_count": 8,
   "metadata": {},
   "outputs": [],
   "source": [
    "#use glob to get list of all MHI CSVs\n",
    "MHI_list = glob.glob(\"*MHI.csv\")"
   ]
  },
  {
   "cell_type": "code",
   "execution_count": 9,
   "metadata": {},
   "outputs": [],
   "source": [
    "#read in MHI data\n",
    "DavisMHI = pd.read_csv('DavisCountyMHI.csv', names = [\"Month\", \"MHI\"], header = 0)\n",
    "SaltLakeMHI = pd.read_csv('SaltLakeCountyMHI.csv', names = [\"Month\", \"MHI\"], header = 0)\n",
    "TooeleMHI = pd.read_csv('TooeleCountyMHI.csv', names = [\"Month\", \"MHI\"], header = 0)\n",
    "UtahMHI = pd.read_csv('UtahCountyMHI.csv', names = [\"Month\", \"MHI\"], header = 0)\n",
    "WasatchMHI = pd.read_csv('WasatchCountyMHI.csv', names = [\"Month\", \"MHI\"], header = 0)\n",
    "WashingtonMHI = pd.read_csv('WashingtonCountyMHI.csv', names = [\"Month\", \"MHI\"], header = 0)\n",
    "WeberMHI = pd.read_csv('WeberCountyMHI.csv', names = [\"Month\", \"MHI\"], header = 0)"
   ]
  },
  {
   "cell_type": "markdown",
   "metadata": {},
   "source": [
    "# 2 Data Analysis\n",
    "## 2.1 Data Merging\n",
    "Next, we will create lists of the housing and income dataframes to allow for easy iteration over the entire set of each. The first such iteration will be to set the months to datetime formats, and fix other formatting issues in the income dataframes."
   ]
  },
  {
   "cell_type": "code",
   "execution_count": 10,
   "metadata": {},
   "outputs": [],
   "source": [
    "#create a list of the MHI and housing dfs\n",
    "MHI_dfs = [DavisMHI, SaltLakeMHI, TooeleMHI, UtahMHI, WasatchMHI, WashingtonMHI, WeberMHI]\n",
    "housing_dfs = [Davis_housing, SaltLake_housing, Tooele_housing, Utah_housing, Wasatch_housing, Washington_housing, Weber_housing]"
   ]
  },
  {
   "cell_type": "code",
   "execution_count": 11,
   "metadata": {},
   "outputs": [],
   "source": [
    "#Convert Month col to datetime, set that col as index, and replace \".\" with NaN\n",
    "for df in MHI_dfs:\n",
    "    df[\"Month\"] = pd.to_datetime(df[\"Month\"])\n",
    "    df.set_index(\"Month\", inplace = True)\n",
    "    df.replace(\".\", np.nan, inplace = True)"
   ]
  },
  {
   "cell_type": "code",
   "execution_count": 12,
   "metadata": {},
   "outputs": [],
   "source": [
    "#convert MHI col to numeric\n",
    "for df in MHI_dfs:\n",
    "    df.iloc[:,0] = pd.to_numeric(df.iloc[:,0], errors = 'coerce')"
   ]
  },
  {
   "cell_type": "markdown",
   "metadata": {},
   "source": [
    "## 2.2 Time Series Resampling\n",
    "The housing dataframe has a monthly frequency, but the income frames have a yearly sampling frequency. To solve this, I will resample the housing to monthly (month start, or \"MS\" frequency). To keep the plots smooth, I will apply a linear interpolation on the income data. This is not perfect, but it is the closest I can get to monthly sampling frequency. "
   ]
  },
  {
   "cell_type": "code",
   "execution_count": 13,
   "metadata": {},
   "outputs": [],
   "source": [
    "#resample to monthly using month start offset rule (\"MS\")\n",
    "DavisMHI = DavisMHI.resample(\"MS\").asfreq()\n",
    "SaltLakeMHI = SaltLakeMHI.resample(\"MS\").asfreq()\n",
    "TooeleMHI = TooeleMHI.resample(\"MS\").asfreq()\n",
    "UtahMHI = UtahMHI.resample(\"MS\").asfreq()\n",
    "WasatchMHI = WasatchMHI.resample(\"MS\").asfreq()\n",
    "WashingtonMHI = WashingtonMHI.resample(\"MS\").asfreq()\n",
    "WeberMHI = WeberMHI.resample(\"MS\").asfreq()"
   ]
  },
  {
   "cell_type": "code",
   "execution_count": 14,
   "metadata": {},
   "outputs": [],
   "source": [
    "#intepolate county-level MHI data to get monthly MHI estimates. make sure columns have appropriate names\n",
    "DavisMHI.interpolate(inplace = True)\n",
    "SaltLakeMHI.interpolate(inplace = True)\n",
    "TooeleMHI.interpolate(inplace = True)\n",
    "UtahMHI.interpolate(inplace = True)\n",
    "WasatchMHI.interpolate(inplace = True)\n",
    "WashingtonMHI.interpolate(inplace = True)\n",
    "WeberMHI.interpolate(inplace = True)"
   ]
  },
  {
   "cell_type": "markdown",
   "metadata": {},
   "source": [
    "I will attach the county name to each dataframe, so that when I combine them all back together (vertically), the county will still be connected to each value. "
   ]
  },
  {
   "cell_type": "code",
   "execution_count": 15,
   "metadata": {},
   "outputs": [],
   "source": [
    "#to make the data tidy, create a column \"county\" for each df, and populate it with the county\n",
    "DavisMHI[\"county\"] = \"Davis\"\n",
    "SaltLakeMHI[\"county\"] = \"Salt Lake\"\n",
    "TooeleMHI[\"county\"] = \"Tooele\"\n",
    "UtahMHI[\"county\"] = \"Utah\"\n",
    "WasatchMHI[\"county\"] = \"Wasatch\"\n",
    "WashingtonMHI[\"county\"] = \"Washington\"\n",
    "WeberMHI[\"county\"] = \"Weber\""
   ]
  },
  {
   "cell_type": "markdown",
   "metadata": {},
   "source": [
    "Now that each individual dataframe is cleaned up, I will merge each county's income data with its housing price data. Then I will vertically concatenate them into a tall dataframe.  "
   ]
  },
  {
   "cell_type": "code",
   "execution_count": 16,
   "metadata": {},
   "outputs": [],
   "source": [
    "#outer merge the housing and MHI csv on dt index\n",
    "Davis_merge = DavisMHI.merge(Davis_housing, how = \"inner\", left_index = True, right_index = True)\n",
    "SaltLake_merge = SaltLakeMHI.merge(SaltLake_housing, how = \"inner\", left_index = True, right_index = True)\n",
    "Tooele_merge = TooeleMHI.merge(Tooele_housing, how = \"inner\", left_index = True, right_index = True)\n",
    "Utah_merge = UtahMHI.merge(Utah_housing, how = \"inner\", left_index = True, right_index = True)\n",
    "Wasatch_merge = WasatchMHI.merge(Wasatch_housing, how = \"inner\", left_index = True, right_index = True)\n",
    "Washington_merge = WashingtonMHI.merge(Washington_housing, how = \"inner\", left_index = True, right_index = True)\n",
    "Weber_merge = WeberMHI.merge(Weber_housing, how = \"inner\", left_index = True, right_index = True)"
   ]
  },
  {
   "cell_type": "code",
   "execution_count": 17,
   "metadata": {},
   "outputs": [],
   "source": [
    "#vertically concatenate all merge dfs\n",
    "merge_dfs = [Davis_merge, SaltLake_merge, Tooele_merge, Utah_merge, Wasatch_merge, Washington_merge, Weber_merge]\n",
    "MHI_housing_merge = pd.concat(merge_dfs, axis = 0)\n",
    "MHI_housing_merge = MHI_housing_merge[[\"county\", \"houseprice\", \"MHI\"]]"
   ]
  },
  {
   "cell_type": "markdown",
   "metadata": {},
   "source": [
    "## 2.3 Calculated Fields\n",
    "Next, I will calculate the final column that will be visualized, the housing price to income ratio."
   ]
  },
  {
   "cell_type": "code",
   "execution_count": 18,
   "metadata": {},
   "outputs": [],
   "source": [
    "MHI_housing_merge['housing_MHI_ratio'] = MHI_housing_merge['houseprice'] / MHI_housing_merge['MHI']"
   ]
  },
  {
   "cell_type": "code",
   "execution_count": 19,
   "metadata": {},
   "outputs": [],
   "source": [
    "#export full merged df to csv for further analysis in R\n",
    "MHI_housing_merge.to_csv(\"housing_MHI_merge.csv\")"
   ]
  },
  {
   "cell_type": "code",
   "execution_count": 20,
   "metadata": {},
   "outputs": [
    {
     "data": {
      "text/html": [
       "<div>\n",
       "<style scoped>\n",
       "    .dataframe tbody tr th:only-of-type {\n",
       "        vertical-align: middle;\n",
       "    }\n",
       "\n",
       "    .dataframe tbody tr th {\n",
       "        vertical-align: top;\n",
       "    }\n",
       "\n",
       "    .dataframe thead th {\n",
       "        text-align: right;\n",
       "    }\n",
       "</style>\n",
       "<table border=\"1\" class=\"dataframe\">\n",
       "  <thead>\n",
       "    <tr style=\"text-align: right;\">\n",
       "      <th></th>\n",
       "      <th>county</th>\n",
       "      <th>houseprice</th>\n",
       "      <th>MHI</th>\n",
       "      <th>housing_MHI_ratio</th>\n",
       "    </tr>\n",
       "    <tr>\n",
       "      <th>Month</th>\n",
       "      <th></th>\n",
       "      <th></th>\n",
       "      <th></th>\n",
       "      <th></th>\n",
       "    </tr>\n",
       "  </thead>\n",
       "  <tbody>\n",
       "    <tr>\n",
       "      <th>1996-04-01</th>\n",
       "      <td>Davis</td>\n",
       "      <td>125000</td>\n",
       "      <td>47629.125000</td>\n",
       "      <td>2.62444</td>\n",
       "    </tr>\n",
       "    <tr>\n",
       "      <th>1996-05-01</th>\n",
       "      <td>Davis</td>\n",
       "      <td>123800</td>\n",
       "      <td>47747.000000</td>\n",
       "      <td>2.59283</td>\n",
       "    </tr>\n",
       "    <tr>\n",
       "      <th>1996-06-01</th>\n",
       "      <td>Davis</td>\n",
       "      <td>122900</td>\n",
       "      <td>47864.875000</td>\n",
       "      <td>2.56764</td>\n",
       "    </tr>\n",
       "    <tr>\n",
       "      <th>1996-07-01</th>\n",
       "      <td>Davis</td>\n",
       "      <td>122900</td>\n",
       "      <td>47982.750000</td>\n",
       "      <td>2.56134</td>\n",
       "    </tr>\n",
       "    <tr>\n",
       "      <th>1996-08-01</th>\n",
       "      <td>Davis</td>\n",
       "      <td>123100</td>\n",
       "      <td>48100.625000</td>\n",
       "      <td>2.55922</td>\n",
       "    </tr>\n",
       "    <tr>\n",
       "      <th>...</th>\n",
       "      <td>...</td>\n",
       "      <td>...</td>\n",
       "      <td>...</td>\n",
       "      <td>...</td>\n",
       "    </tr>\n",
       "    <tr>\n",
       "      <th>2014-12-01</th>\n",
       "      <td>Weber</td>\n",
       "      <td>152400</td>\n",
       "      <td>58828.250000</td>\n",
       "      <td>2.59059</td>\n",
       "    </tr>\n",
       "    <tr>\n",
       "      <th>2015-01-01</th>\n",
       "      <td>Weber</td>\n",
       "      <td>152700</td>\n",
       "      <td>58786.000000</td>\n",
       "      <td>2.59756</td>\n",
       "    </tr>\n",
       "    <tr>\n",
       "      <th>2015-02-01</th>\n",
       "      <td>Weber</td>\n",
       "      <td>153200</td>\n",
       "      <td>59117.833333</td>\n",
       "      <td>2.59143</td>\n",
       "    </tr>\n",
       "    <tr>\n",
       "      <th>2015-03-01</th>\n",
       "      <td>Weber</td>\n",
       "      <td>153800</td>\n",
       "      <td>59449.666667</td>\n",
       "      <td>2.58706</td>\n",
       "    </tr>\n",
       "    <tr>\n",
       "      <th>2015-04-01</th>\n",
       "      <td>Weber</td>\n",
       "      <td>154400</td>\n",
       "      <td>59781.500000</td>\n",
       "      <td>2.58274</td>\n",
       "    </tr>\n",
       "  </tbody>\n",
       "</table>\n",
       "<p>1603 rows × 4 columns</p>\n",
       "</div>"
      ],
      "text/plain": [
       "           county houseprice           MHI housing_MHI_ratio\n",
       "Month                                                       \n",
       "1996-04-01  Davis     125000  47629.125000           2.62444\n",
       "1996-05-01  Davis     123800  47747.000000           2.59283\n",
       "1996-06-01  Davis     122900  47864.875000           2.56764\n",
       "1996-07-01  Davis     122900  47982.750000           2.56134\n",
       "1996-08-01  Davis     123100  48100.625000           2.55922\n",
       "...           ...        ...           ...               ...\n",
       "2014-12-01  Weber     152400  58828.250000           2.59059\n",
       "2015-01-01  Weber     152700  58786.000000           2.59756\n",
       "2015-02-01  Weber     153200  59117.833333           2.59143\n",
       "2015-03-01  Weber     153800  59449.666667           2.58706\n",
       "2015-04-01  Weber     154400  59781.500000           2.58274\n",
       "\n",
       "[1603 rows x 4 columns]"
      ]
     },
     "execution_count": 20,
     "metadata": {},
     "output_type": "execute_result"
    }
   ],
   "source": [
    "MHI_housing_merge"
   ]
  },
  {
   "cell_type": "markdown",
   "metadata": {},
   "source": [
    "## 2.4 Dataframe Melt & Export\n",
    "Lastly, I will melt the dataframe so that the column headers, which contain the measurements, will be represented as a single column, and so that each row contains a single measurement for a single day in a single county. This dataframe will be written to a CSV for further analysis and visualization in R. "
   ]
  },
  {
   "cell_type": "code",
   "execution_count": 21,
   "metadata": {},
   "outputs": [
    {
     "data": {
      "text/html": [
       "<div>\n",
       "<style scoped>\n",
       "    .dataframe tbody tr th:only-of-type {\n",
       "        vertical-align: middle;\n",
       "    }\n",
       "\n",
       "    .dataframe tbody tr th {\n",
       "        vertical-align: top;\n",
       "    }\n",
       "\n",
       "    .dataframe thead th {\n",
       "        text-align: right;\n",
       "    }\n",
       "</style>\n",
       "<table border=\"1\" class=\"dataframe\">\n",
       "  <thead>\n",
       "    <tr style=\"text-align: right;\">\n",
       "      <th></th>\n",
       "      <th>county</th>\n",
       "      <th>variable</th>\n",
       "      <th>value</th>\n",
       "    </tr>\n",
       "    <tr>\n",
       "      <th>Month</th>\n",
       "      <th></th>\n",
       "      <th></th>\n",
       "      <th></th>\n",
       "    </tr>\n",
       "  </thead>\n",
       "  <tbody>\n",
       "    <tr>\n",
       "      <th>1996-04-01</th>\n",
       "      <td>Davis</td>\n",
       "      <td>houseprice</td>\n",
       "      <td>125000</td>\n",
       "    </tr>\n",
       "    <tr>\n",
       "      <th>1996-05-01</th>\n",
       "      <td>Davis</td>\n",
       "      <td>houseprice</td>\n",
       "      <td>123800</td>\n",
       "    </tr>\n",
       "    <tr>\n",
       "      <th>1996-06-01</th>\n",
       "      <td>Davis</td>\n",
       "      <td>houseprice</td>\n",
       "      <td>122900</td>\n",
       "    </tr>\n",
       "    <tr>\n",
       "      <th>1996-07-01</th>\n",
       "      <td>Davis</td>\n",
       "      <td>houseprice</td>\n",
       "      <td>122900</td>\n",
       "    </tr>\n",
       "    <tr>\n",
       "      <th>1996-08-01</th>\n",
       "      <td>Davis</td>\n",
       "      <td>houseprice</td>\n",
       "      <td>123100</td>\n",
       "    </tr>\n",
       "    <tr>\n",
       "      <th>...</th>\n",
       "      <td>...</td>\n",
       "      <td>...</td>\n",
       "      <td>...</td>\n",
       "    </tr>\n",
       "    <tr>\n",
       "      <th>2014-12-01</th>\n",
       "      <td>Weber</td>\n",
       "      <td>housing_MHI_ratio</td>\n",
       "      <td>2.59059</td>\n",
       "    </tr>\n",
       "    <tr>\n",
       "      <th>2015-01-01</th>\n",
       "      <td>Weber</td>\n",
       "      <td>housing_MHI_ratio</td>\n",
       "      <td>2.59756</td>\n",
       "    </tr>\n",
       "    <tr>\n",
       "      <th>2015-02-01</th>\n",
       "      <td>Weber</td>\n",
       "      <td>housing_MHI_ratio</td>\n",
       "      <td>2.59143</td>\n",
       "    </tr>\n",
       "    <tr>\n",
       "      <th>2015-03-01</th>\n",
       "      <td>Weber</td>\n",
       "      <td>housing_MHI_ratio</td>\n",
       "      <td>2.58706</td>\n",
       "    </tr>\n",
       "    <tr>\n",
       "      <th>2015-04-01</th>\n",
       "      <td>Weber</td>\n",
       "      <td>housing_MHI_ratio</td>\n",
       "      <td>2.58274</td>\n",
       "    </tr>\n",
       "  </tbody>\n",
       "</table>\n",
       "<p>4809 rows × 3 columns</p>\n",
       "</div>"
      ],
      "text/plain": [
       "           county           variable    value\n",
       "Month                                        \n",
       "1996-04-01  Davis         houseprice   125000\n",
       "1996-05-01  Davis         houseprice   123800\n",
       "1996-06-01  Davis         houseprice   122900\n",
       "1996-07-01  Davis         houseprice   122900\n",
       "1996-08-01  Davis         houseprice   123100\n",
       "...           ...                ...      ...\n",
       "2014-12-01  Weber  housing_MHI_ratio  2.59059\n",
       "2015-01-01  Weber  housing_MHI_ratio  2.59756\n",
       "2015-02-01  Weber  housing_MHI_ratio  2.59143\n",
       "2015-03-01  Weber  housing_MHI_ratio  2.58706\n",
       "2015-04-01  Weber  housing_MHI_ratio  2.58274\n",
       "\n",
       "[4809 rows x 3 columns]"
      ]
     },
     "execution_count": 21,
     "metadata": {},
     "output_type": "execute_result"
    }
   ],
   "source": [
    "#melt the df so that column headers are stored in the column \"metric\"\n",
    "MHI_housing_melt = pd.melt(MHI_housing_merge.reset_index(), value_vars = [\"houseprice\", \"MHI\", \"housing_MHI_ratio\"], id_vars = [\"Month\", \"county\"]).set_index(\"Month\")\n",
    "MHI_housing_melt"
   ]
  },
  {
   "cell_type": "code",
   "execution_count": 22,
   "metadata": {},
   "outputs": [],
   "source": [
    "MHI_housing_melt.to_csv(\"housing_MHI_melt.csv\")"
   ]
  },
  {
   "cell_type": "code",
   "execution_count": null,
   "metadata": {},
   "outputs": [],
   "source": []
  }
 ],
 "metadata": {
  "kernelspec": {
   "display_name": "Python 3",
   "language": "python",
   "name": "python3"
  },
  "language_info": {
   "codemirror_mode": {
    "name": "ipython",
    "version": 3
   },
   "file_extension": ".py",
   "mimetype": "text/x-python",
   "name": "python",
   "nbconvert_exporter": "python",
   "pygments_lexer": "ipython3",
   "version": "3.8.3"
  }
 },
 "nbformat": 4,
 "nbformat_minor": 4
}
